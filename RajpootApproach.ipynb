{
 "cells": [
  {
   "cell_type": "code",
   "execution_count": 229,
   "id": "edc6961e-a7c3-49fd-a79d-308630383345",
   "metadata": {},
   "outputs": [],
   "source": [
    "import numpy as np \n",
    "import matplotlib.pyplot as plt\n",
    "import os\n",
    "import cv2 as cv \n",
    "from os.path import join\n",
    "import pydicom as dicom\n",
    "from skimage import exposure\n",
    "import progressbar \n",
    "%matplotlib qt"
   ]
  },
  {
   "cell_type": "code",
   "execution_count": 325,
   "id": "a01b3ad7-b83a-4ca8-97e1-6ececc7e017d",
   "metadata": {},
   "outputs": [],
   "source": [
    "#path of the images\n",
    "path = r'D:\\Dalhousie\\datasets'\n",
    "#folder = r'05 2023.07.30 NoFiducials\\cropped'\n",
    "folder = r'06 2023.07.30 WithFiducials\\cropped'\n",
    "\n",
    "saving_folder = r'06 2023.07.30 WithFiducials\\LogGabor'\n",
    "\n",
    "in_path=join(path,folder)\n",
    "entries = os.listdir(in_path)\n",
    "image_path = join(in_path,entries[-2]) #Selected image\n",
    "savedimage_path = join(path,saving_folder)"
   ]
  },
  {
   "cell_type": "code",
   "execution_count": 326,
   "id": "a27576bc-97f3-4d3f-ada8-6eead889397f",
   "metadata": {},
   "outputs": [
    {
     "data": {
      "text/plain": [
       "(809, 745)"
      ]
     },
     "execution_count": 326,
     "metadata": {},
     "output_type": "execute_result"
    }
   ],
   "source": [
    "img=cv.imread(image_path,0)\n",
    "cv.imshow('Imagen original',img)\n",
    "\n",
    "cv.waitKey(0)\n",
    "img.shape"
   ]
  },
  {
   "cell_type": "code",
   "execution_count": 222,
   "id": "d845cd8e-2d4e-420e-89f0-1c8e9b79fb4e",
   "metadata": {},
   "outputs": [],
   "source": [
    "#Function to create a frequency grid to create the filter.\n",
    "def Grid2D(imag_shape):\n",
    "    ysize,xsize = imag_shape #The grid needs to be the same size as the image\n",
    "    ymid = ysize // 2\n",
    "    xmid = xsize // 2\n",
    "    \n",
    "    if ysize % 2 == 0: #Condition to led with images with odd or even size.\n",
    "        ymax = ymid - 1\n",
    "    else:\n",
    "        ymax = ymid\n",
    "\n",
    "    if xsize % 2 == 0:\n",
    "        xmax = xmid - 1\n",
    "    else:\n",
    "        xmax = xmid\n",
    "    \n",
    "    X,Y= np.meshgrid(np.arange(-xmid, xmax + 1),np.arange(-ymid, ymax + 1)) #Spatial domain of the grid\n",
    "    X = np.fft.ifftshift(X)/xsize #Frecuency domain of the grid (also normalized)\n",
    "    Y = np.fft.ifftshift(Y)/ysize\n",
    "    \n",
    "    return X,Y"
   ]
  },
  {
   "cell_type": "code",
   "execution_count": 223,
   "id": "66bef9db-ae3e-4b9c-bcd5-827e0c015f08",
   "metadata": {},
   "outputs": [
    {
     "data": {
      "text/plain": [
       "-1"
      ]
     },
     "execution_count": 223,
     "metadata": {},
     "output_type": "execute_result"
    }
   ],
   "source": [
    "def RiezFilter(img_shape): \n",
    "    u,v = Grid2D(img_shape)\n",
    "    w = np.sqrt(u**2+v**2)\n",
    "    w[0,0]=0.0001\n",
    "    \n",
    "    H1 = (1j * u)/ w\n",
    "    H2 = (1j * v)/ w\n",
    "    \n",
    "    return H1,H2\n",
    "\n",
    "def LogGaborFilter(img_shape,scaling_factor,wavelenght,k_w0):\n",
    "    \n",
    "    #Create a Frequency Grid\n",
    "    X,Y = Grid2D(img_shape)\n",
    "    \n",
    "    #Determine the spatial regions to use \n",
    "    w = np.sqrt(Y**2+X**2)\n",
    "    w[0,0]=0.0001 #Avoids log(0)\n",
    "    phi = np.arctan2(Y,X)\n",
    "    \n",
    "    #User defined parameter\n",
    "    m = scaling_factor\n",
    "    \n",
    "    #for i in range(len(wavelenght)):\n",
    "        \n",
    "    lamb = wavelenght #[i]\n",
    "    w_0 = 2/(lamb*3)\n",
    "\n",
    "    GabFilter = np.exp( -((np.log(w/w_0))**2 / (2*(np.log(k_w0))**2)))#+((phi-phi_0)**2/(2*sig_phi**2)) \n",
    "    GabFilter[0,0] = 0\n",
    "\n",
    "    if (img_shape[0]%2 == 0):\n",
    "        GabFilter[img_shape[0]//2,:]=0\n",
    "\n",
    "    if (img_shape[1]%2 == 0):\n",
    "        GabFilter[:,img_shape[1]//2]=0\n",
    "\n",
    "    #FilterBank[i,:,:] = GabFilter\n",
    "    return GabFilter\n",
    "\n",
    "def MonogenicSignal(image,LogGaborFilt,H1,H2):\n",
    "    \n",
    "    F = np.fft.fft2(image)\n",
    "    Ffilt = np.multiply(F,LogGaborFilt)\n",
    "    \n",
    "    F_g = np.fft.ifft2(Ffilt)\n",
    "    \n",
    "    F_gi = np.real(F_g)\n",
    "    fm1 = np.real(F_g)\n",
    "    \n",
    "    F_modd_1 = np.multiply(Ffilt,H1) \n",
    "    F_modd_1 = np.fft.ifft2(F_modd_1)\n",
    "    fm2 = np.real(F_modd_1)\n",
    "    #print(np.min(np.imag(F_modd_1)))\n",
    "    \n",
    "    F_modd_2 = np.multiply(Ffilt,H2) \n",
    "    F_modd_2 = np.fft.ifft2(F_modd_2)\n",
    "    fm3 = np.real(F_modd_2)\n",
    "    \n",
    "    return fm1,fm2,fm3\n",
    "\n",
    "\n",
    "def FeatureSymetry(m1,m2,m3):\n",
    "    epsilon = 0.01\n",
    "    \n",
    "    odd = np.sqrt(m2**2 + m3**2)\n",
    "    even = np.abs(m1)\n",
    "    \n",
    "    T = np.exp(np.log(np.mean(np.sqrt(odd**2+even**2))))\n",
    "    \n",
    "    denominator = np.sqrt(even**2+odd**2)+epsilon\n",
    "    \n",
    "    FS_num = np.clip((even - odd - T), 0,None)\n",
    "    FA_num = np.clip((odd - even - T), 0,None)\n",
    "    \n",
    "    FS = FS_num/denominator\n",
    "    FA = FA_num/denominator\n",
    "    \n",
    "    #FS = np.mean(FS, axis=0)\n",
    "    #FA = np.mean(FA, axis=0)\n",
    "    \n",
    "    return FS,FA\n",
    "\n",
    "H1,H2 = RiezFilter(img.shape)\n",
    "wl = 36\n",
    "\n",
    "lG = LogGaborFilter(img.shape,1.5,wl,0.55)\n",
    "\n",
    "m1,m2,m3 = MonogenicSignal(img,lG,H1,H2)\n",
    "\n",
    "#LocalAmp = np.sqrt(m1**2+m2**2+m3**2)\n",
    "#LocalPhase = np.arctan2((np.sqrt(m2**2+m3**2)),m1)\n",
    "\n",
    "FS,FA = FeatureSymetry(m1,m2,m3)\n",
    "\n",
    "FA = (FA-FA.min())*(255/(FA.max()-FA.min()))\n",
    "FA = FA.astype(np.uint8)\n",
    "FS = (FS-FS.min())*(255/(FS.max()-FS.min()))\n",
    "FS = FS.astype(np.uint8)\n",
    "\n",
    "\n",
    "cv.imshow('',np.c_[img,FA,FS])\n",
    "cv.waitKey(0)\n"
   ]
  },
  {
   "cell_type": "code",
   "execution_count": 224,
   "id": "838f38a9-5ec7-4f56-aa73-3b7482a8e4cb",
   "metadata": {},
   "outputs": [
    {
     "name": "stderr",
     "output_type": "stream",
     "text": [
      " 99% (482 of 483) |##################### | Elapsed Time: 0:01:16 ETA:   0:00:00"
     ]
    }
   ],
   "source": [
    "maximumvalue = len(entries)-1\n",
    "\n",
    "\n",
    "bar = progressbar.ProgressBar(maxval=maximumvalue).start()\n",
    "\n",
    "for ith in range (3,maximumvalue):\n",
    "    \n",
    "    in_image_path = join(in_path,entries[ith])\n",
    "    out_image_path = join(savedimage_path,entries[ith])\n",
    "\n",
    "    img = cv.imread(in_image_path,0)\n",
    "    \n",
    "    H1,H2 = RiezFilter(img.shape)\n",
    "    wl = 60\n",
    "\n",
    "    lG = LogGaborFilter(img.shape,1.5,wl,0.25)\n",
    "\n",
    "    m1,m2,m3 = MonogenicSignal(img,lG,H1,H2)\n",
    "\n",
    "\n",
    "    FS,FA = FeatureSymetry(m1,m2,m3)\n",
    "\n",
    "    FA = (FA-FA.min())*(255/(FA.max()-FA.min()))\n",
    "    FA = FA.astype(np.uint8)\n",
    "    FS = (FS-FS.min())*(255/(FS.max()-FS.min()))\n",
    "    FS = FS.astype(np.uint8)\n",
    "\n",
    "\n",
    "    cv.imshow('',np.c_[img,FA,FS])\n",
    "    cv.waitKey(1)\n",
    "    #cv.imwrite(out_image_path,FS)\n",
    "    bar.update(ith)"
   ]
  },
  {
   "cell_type": "markdown",
   "id": "cb362473-0775-488b-9649-983f961ebfe0",
   "metadata": {},
   "source": [
    "# Multi-scale appoach"
   ]
  },
  {
   "cell_type": "code",
   "execution_count": 217,
   "id": "d4571d09-8110-483c-bd9b-6461389c1a5d",
   "metadata": {},
   "outputs": [
    {
     "data": {
      "text/plain": [
       "-1"
      ]
     },
     "execution_count": 217,
     "metadata": {},
     "output_type": "execute_result"
    }
   ],
   "source": [
    "def LogGaborFilter_MS(img_shape,scaling_factor,wavelenght,k_w0):\n",
    "    \n",
    "    #Create a Frequency Grid\n",
    "    X,Y = Grid2D(img_shape)\n",
    "    \n",
    "    FiltBank = np.zeros((len(wavelenght),img_shape[0],img_shape[1]))\n",
    "    \n",
    "    #Determine the spatial regions to use \n",
    "    w = np.sqrt(Y**2+X**2)\n",
    "    w[0,0]=0.0001 #Avoids log(0)\n",
    "    phi = np.arctan2(Y,X)\n",
    "    \n",
    "    #User defined parameter\n",
    "    m = scaling_factor\n",
    "    \n",
    "    for i in range(len(wavelenght)):\n",
    "        \n",
    "        lamb = wavelenght[i]\n",
    "        w_0 = 2/(lamb*3)\n",
    "\n",
    "        GabFilter = np.exp( -((np.log(w/w_0))**2 / (2*(np.log(k_w0))**2)))#+((phi-phi_0)**2/(2*sig_phi**2)) \n",
    "        GabFilter[0,0] = 0\n",
    "\n",
    "        if (img_shape[0]%2 == 0):\n",
    "            GabFilter[img_shape[0]//2,:]=0\n",
    "\n",
    "        if (img_shape[1]%2 == 0):\n",
    "            GabFilter[:,img_shape[1]//2]=0\n",
    "\n",
    "        FiltBank[i,:,:] = GabFilter\n",
    "        \n",
    "    return FiltBank\n",
    "\n",
    "def FeatureSymetry_MS(m1,m2,m3):\n",
    "    epsilon = 0.01\n",
    "    \n",
    "    odd = np.sqrt(m2**2 + m3**2)\n",
    "    even = np.abs(m1)\n",
    "    \n",
    "    T = np.exp(np.log(np.mean(np.sqrt(odd**2+even**2))))\n",
    "    \n",
    "    denominator = np.sqrt(even**2+odd**2)+epsilon\n",
    "    \n",
    "    FS_num = np.clip((even - odd - T), 0,None)\n",
    "    FA_num = np.clip((odd - even - T), 0,None)\n",
    "    \n",
    "    FS = FS_num/denominator\n",
    "    FA = FA_num/denominator\n",
    "    \n",
    "    FS = np.sum(FS, axis=0)\n",
    "    FA = np.sum(FA, axis=0)\n",
    "    \n",
    "    return FS,FA\n",
    "\n",
    "H1,H2 = RiezFilter(img.shape)\n",
    "wl = np.array([30,60,90,120])\n",
    "\n",
    "lG = LogGaborFilter_MS(img.shape,1.5,wl,0.55)\n",
    "\n",
    "m1,m2,m3 = MonogenicSignal(img,lG,H1,H2)\n",
    "\n",
    "\n",
    "FS_m,FA_m = FeatureSymetry_MS(m1,m2,m3)\n",
    "\n",
    "FA_m = (FA_m-FA_m.min())*(255/(FA_m.max()-FA_m.min()))\n",
    "FA_m = FA_m.astype(np.uint8)\n",
    "FS_m = (FS_m-FS_m.min())*(255/(FS_m.max()-FS_m.min()))\n",
    "FS_m = FS_m.astype(np.uint8)\n",
    "\n",
    "\n",
    "cv.imshow('',np.c_[img,FA,FS,FA_m,FS_m])\n",
    "cv.waitKey(0)"
   ]
  },
  {
   "cell_type": "code",
   "execution_count": 327,
   "id": "38f98fee-2477-4885-8240-aac36cb01386",
   "metadata": {},
   "outputs": [
    {
     "name": "stderr",
     "output_type": "stream",
     "text": [
      " 99% (480 of 481) |##################### | Elapsed Time: 0:03:24 ETA:   0:00:00"
     ]
    }
   ],
   "source": [
    "maximumvalue = len(entries)-3\n",
    "\n",
    "\n",
    "bar = progressbar.ProgressBar(maxval=maximumvalue).start()\n",
    "\n",
    "for ith in range (3,maximumvalue):\n",
    "    \n",
    "    in_image_path = join(in_path,entries[ith])\n",
    "    out_image_path = join(savedimage_path,entries[ith])\n",
    "    \n",
    "    img = cv.imread(in_image_path,0)\n",
    "    \n",
    "    H1,H2 = RiezFilter(img.shape)\n",
    "    wl = np.array([70,80,90])\n",
    "\n",
    "    lG = LogGaborFilter_MS(img.shape,1.5,wl,0.15)\n",
    "\n",
    "    m1,m2,m3 = MonogenicSignal(img,lG,H1,H2)\n",
    "\n",
    "\n",
    "    FS_m,FA_m = FeatureSymetry_MS(m1,m2,m3)\n",
    "\n",
    "    FA_m = (FA_m-FA_m.min())*(255/(FA_m.max()-FA_m.min()))\n",
    "    FA_m = FA_m.astype(np.uint8)\n",
    "    FS_m = (FS_m-FS_m.min())*(255/(FS_m.max()-FS_m.min()))\n",
    "    FS_m = FS_m.astype(np.uint8)\n",
    "\n",
    "\n",
    "    cv.imshow('',np.c_[img,FS_m,FA_m])\n",
    "\n",
    "    cv.imwrite(out_image_path,FS_m)\n",
    "    cv.waitKey(1)\n",
    "    bar.update(ith)"
   ]
  },
  {
   "cell_type": "markdown",
   "id": "a47714ba-e8d0-4581-b3c8-f95870ec62ab",
   "metadata": {},
   "source": [
    "# MRI images"
   ]
  },
  {
   "cell_type": "code",
   "execution_count": 323,
   "id": "4d0ea670-907c-48cc-ad7d-81a6bab1b069",
   "metadata": {},
   "outputs": [
    {
     "name": "stderr",
     "output_type": "stream",
     "text": [
      " 98% (158 of 160) |##################### | Elapsed Time: 0:00:11 ETA:   0:00:00"
     ]
    }
   ],
   "source": [
    "\n",
    "\n",
    "maximumvalue = 160\n",
    "\n",
    "\n",
    "bar = progressbar.ProgressBar(maxval=maximumvalue).start()\n",
    "\n",
    "for ith in range (3,maximumvalue):\n",
    "    I = dicom.dcmread('C:/Users/eddea/Desktop/Tesis Maestría/Codes/Original/'+str(ith)+'.dcm')\n",
    "    I=I.pixel_array\n",
    "    I=exposure.equalize_adapthist(I)\n",
    "    img = I\n",
    "    \n",
    "    #img = cv.imread(in_image_path,0)\n",
    "    \n",
    "    H1,H2 = RiezFilter(img.shape)\n",
    "    wl = np.array([5,10,15])\n",
    "\n",
    "    lG = LogGaborFilter_MS(img.shape,1.5,wl,0.15)\n",
    "\n",
    "    m1,m2,m3 = MonogenicSignal(img,lG,H1,H2)\n",
    "\n",
    "\n",
    "    FS_m,FA_m = FeatureSymetry_MS(m1,m2,m3)\n",
    "\n",
    "    FA_m = (FA_m-FA_m.min())*(255/(FA_m.max()-FA_m.min()))\n",
    "    FA_m = FA_m.astype(np.uint8)\n",
    "    FS_m = (FS_m-FS_m.min())*(255/(FS_m.max()-FS_m.min()))\n",
    "    FS_m = FS_m.astype(np.uint8)\n",
    "\n",
    "\n",
    "    cv.imshow('',np.c_[img,FS_m,FA_m,FS_m-FA_m,-FS_m+FA_m])\n",
    "\n",
    "    #cv.imwrite(out_image_path,FS_m)\n",
    "    cv.waitKey(1)\n",
    "    bar.update(ith)"
   ]
  },
  {
   "cell_type": "code",
   "execution_count": null,
   "id": "6770f449-0750-4e44-9719-085d60c7ccfc",
   "metadata": {},
   "outputs": [],
   "source": [
    "#Fussion 360"
   ]
  }
 ],
 "metadata": {
  "kernelspec": {
   "display_name": "Python 3",
   "language": "python",
   "name": "python3"
  },
  "language_info": {
   "codemirror_mode": {
    "name": "ipython",
    "version": 3
   },
   "file_extension": ".py",
   "mimetype": "text/x-python",
   "name": "python",
   "nbconvert_exporter": "python",
   "pygments_lexer": "ipython3",
   "version": "3.6.5"
  }
 },
 "nbformat": 4,
 "nbformat_minor": 5
}
