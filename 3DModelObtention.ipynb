{
 "cells": [
  {
   "cell_type": "code",
   "execution_count": 1,
   "id": "cc2a1e8b-e461-4967-9728-84547fb225fe",
   "metadata": {},
   "outputs": [
    {
     "name": "stdout",
     "output_type": "stream",
     "text": [
      "Jupyter environment detected. Enabling Open3D WebVisualizer.\n",
      "[Open3D INFO] WebRTC GUI backend enabled.\n",
      "[Open3D INFO] WebRTCWindowSystem: HTTP handshake server disabled.\n"
     ]
    }
   ],
   "source": [
    "import numpy as np \n",
    "import cv2 as cv \n",
    "from os.path import join\n",
    "import os\n",
    "import matplotlib.pyplot as plt \n",
    "from scipy.interpolate import RectBivariateSpline\n",
    "import open3d as o3d\n",
    "%matplotlib qt"
   ]
  },
  {
   "cell_type": "code",
   "execution_count": 15,
   "id": "e4d7ec47-12b9-4a62-9bf9-f525d00d90e1",
   "metadata": {},
   "outputs": [],
   "source": [
    "#path of the images\n",
    "path = r'D:\\Dalhousie\\datasets\\Registration'\n",
    "folder = r'Series1_crop' \n",
    "\n",
    "saving_folder = r'Results'\n",
    "\n",
    "in_path=join(path,folder)\n",
    "entries = os.listdir(in_path)\n",
    "image_path = join(in_path,entries[0]) #Selected image\n",
    "savedimage_path = join(path,saving_folder)"
   ]
  },
  {
   "cell_type": "markdown",
   "id": "c047e2ba-8164-436f-b349-74099de80713",
   "metadata": {
    "tags": []
   },
   "source": [
    "# B-Spline Surface\n",
    "\n",
    "## Saving volume"
   ]
  },
  {
   "cell_type": "code",
   "execution_count": 3,
   "id": "a7009a7c-de1a-4af4-a30c-8894bd74966a",
   "metadata": {},
   "outputs": [
    {
     "name": "stdout",
     "output_type": "stream",
     "text": [
      "510\n",
      "Saving vol.npz\n",
      "Done!\n",
      "[  3 416   0] [855 599 509]\n",
      "Normalized coordinates:\n",
      "[1. 1. 1.] [0. 0. 0.]\n"
     ]
    },
    {
     "data": {
      "text/plain": [
       "True"
      ]
     },
     "execution_count": 3,
     "metadata": {},
     "output_type": "execute_result"
    }
   ],
   "source": [
    "I = cv.imread(image_path,0)\n",
    "vol = np.zeros((I.shape[0],I.shape[1],len(entries)),np.uint8)\n",
    "\n",
    "print(len(entries))\n",
    "\n",
    "for ith in range (len(entries)):    \n",
    "    image_path = join(in_path,entries[ith])\n",
    "    I = cv.imread(image_path,0)\n",
    "    vol[:,:,ith] = I\n",
    "\n",
    "npz_file = 'vol.npz'\n",
    "print(f\"Saving {npz_file}\")\n",
    "np.savez(npz_file, vol=vol)\n",
    "print(\"Done!\")\n",
    "\n",
    "vol[vol<60] = 0\n",
    "\n",
    "y,x,z = np.where(vol)\n",
    "\n",
    "points = np.vstack((x, y, z)).T\n",
    "\n",
    "coordinates = points\n",
    "\n",
    "min_vals = np.min(coordinates, axis=0)\n",
    "max_vals = np.max(coordinates, axis=0)\n",
    "\n",
    "print(min_vals,max_vals)\n",
    "\n",
    "# Normalize the coordinates to range between -1 and 1\n",
    "normalized_coordinates = (coordinates - min_vals) / (max_vals - min_vals)\n",
    "\n",
    "print(\"Normalized coordinates:\")\n",
    "print(np.max(normalized_coordinates, axis=0), np.min(normalized_coordinates, axis=0))\n",
    "\n",
    "\n",
    "\n",
    "pcd = o3d.geometry.PointCloud()\n",
    "pcd.points = o3d.utility.Vector3dVector(points[::10,:])\n",
    "pcd.paint_uniform_color([1, 0.706, 0])\n",
    "o3d.visualization.draw_geometries([pcd])\n",
    "\n",
    "o3d.io.write_point_cloud(\"Series2.pcd\", pcd)"
   ]
  },
  {
   "cell_type": "markdown",
   "id": "933feebb-83c3-46ca-acd6-40ec1316b115",
   "metadata": {},
   "source": [
    "## Bivarriate Spline Fitting "
   ]
  },
  {
   "cell_type": "code",
   "execution_count": 7,
   "id": "31c6dbd9-4b47-4c7b-a9a6-e2dd79b8ff03",
   "metadata": {},
   "outputs": [
    {
     "name": "stdout",
     "output_type": "stream",
     "text": [
      "(366, 856, 510)\n"
     ]
    }
   ],
   "source": [
    "# Load volume from disk.  Run save_vol.py to generate the npz file with\n",
    "# the volume data\n",
    "vol=np.load(\"vol.npz\")['vol']\n",
    "vol=vol[300:,:,:]\n",
    "print(vol.shape)\n",
    "#%%\n",
    "# Make point cloud of bone contour\n",
    "points=np.argmax(vol, axis=0).T\n",
    "points=points.astype('float64')\n",
    "\n",
    "\n",
    "mask = (points>30)\n",
    "\n",
    "\n",
    "# Set up normalized axis arrays\n",
    "Nx, Ny, Nz = vol.shape\n",
    "x=np.linspace(-1,1,Nx)\n",
    "y=np.linspace(-1,1,Ny)\n",
    "z=np.linspace(-1,1,Nz)\n",
    "Y,Z = np.meshgrid(y,z)\n",
    "\n",
    "\n",
    "\n",
    "order = 3\n",
    "# Do the spline fit\n",
    "rbs = RectBivariateSpline(y,z,points.T, bbox=[-1,1,-1,1], kx=order, ky=order, s=9e7)\n",
    "# Get smoothed surface location estimates\n",
    "xfit=rbs.ev(Y,Z)\n",
    "\n",
    "\n",
    "from scipy.ndimage import binary_erosion\n",
    "fig = plt.figure()\n",
    "ax1 = fig.add_subplot(1, 2, 1, projection='3d')\n",
    "ax2 = fig.add_subplot(1, 2, 2, projection='3d')\n",
    "\n",
    "# Mask out point outside of botn surface\n",
    "points[np.logical_not(mask)] = np.nan\n",
    "ax1.plot_surface(Y, Z, points)\n",
    "ax1.set_title(\"Raw data\")\n",
    "\n",
    "# Spline fit produces artefact around the edges so we need to erode\n",
    "# the mask inward to avoid displaying them\n",
    "mask2=binary_erosion(mask, iterations=10)\n",
    "xfit[np.logical_not(mask2)] = np.nan \n",
    "ax2.plot_surface(Y, Z, xfit)\n",
    "ax2.set_title(\"Spline fit\")\n",
    "plt.show()"
   ]
  },
  {
   "cell_type": "markdown",
   "id": "e1368b80-3a0a-48bc-89e7-ae1e1e7bfeb0",
   "metadata": {},
   "source": [
    "# Mesh-based 3D Model\n",
    "\n",
    "## Marching Cubes algorithm from skimage "
   ]
  },
  {
   "cell_type": "code",
   "execution_count": 16,
   "id": "c9c8fff3-e52c-4583-8189-9b97513382ed",
   "metadata": {},
   "outputs": [
    {
     "name": "stdout",
     "output_type": "stream",
     "text": [
      "ya fue\n",
      "(666, 853, 510)\n",
      "ya merito\n",
      "done\n"
     ]
    }
   ],
   "source": [
    "import numpy as np\n",
    "import cv2 as cv \n",
    "from skimage import measure, morphology\n",
    "from stl import mesh\n",
    "\n",
    "I=cv.imread(image_path,0) #Reading an image to obtain shape \n",
    "\n",
    "# Array where we merge all the segmentation masks from the series \n",
    "Array_3D = np.zeros((I.shape[0],I.shape[1],len(entries)),np.uint8)\n",
    "\n",
    "#Merging process\n",
    "for ith in range (len(entries)):\n",
    "    image_path = join(in_path,entries[ith])\n",
    "    I = cv.imread(image_path,0)\n",
    "    Array_3D[:,:,ith] = I\n",
    "    \n",
    "binary_array = Array_3D > 0\n",
    "\n",
    "verts, faces, _, _ = measure.marching_cubes(binary_array, 0) #Marchin cubes algorithm \n",
    "\n",
    "# Create a mesh object\n",
    "surface_mesh = mesh.Mesh(np.zeros(faces.shape[0], dtype=mesh.Mesh.dtype))\n",
    "\n",
    "# Assign vertices and faces to the mesh\n",
    "for i, face in enumerate(faces):\n",
    "    for j in range(3):\n",
    "        surface_mesh.vectors[i][j] = verts[face[j]]\n",
    "\n",
    "# Save the mesh to an STL file\n",
    "surface_mesh.save('SphereMeshModel.stl')"
   ]
  },
  {
   "cell_type": "markdown",
   "id": "1a6837f4-4432-48e2-9402-5b7f3ced1947",
   "metadata": {
    "tags": []
   },
   "source": [
    "# Point Cloud 3D Model"
   ]
  },
  {
   "cell_type": "code",
   "execution_count": 17,
   "id": "16446e21-5df4-4b51-b162-0e8c91d0fb7d",
   "metadata": {},
   "outputs": [
    {
     "name": "stdout",
     "output_type": "stream",
     "text": [
      "Saving vol.npz\n",
      "Done!\n",
      "Normalized coordinates:\n",
      "[1. 1. 1.] [0. 0. 0.]\n"
     ]
    },
    {
     "data": {
      "text/plain": [
       "True"
      ]
     },
     "execution_count": 17,
     "metadata": {},
     "output_type": "execute_result"
    }
   ],
   "source": [
    "import numpy as np \n",
    "import cv2 as cv \n",
    "from os.path import join\n",
    "import os\n",
    "import matplotlib.pyplot as plt \n",
    "from scipy.interpolate import RectBivariateSpline\n",
    "import open3d as o3d\n",
    "%matplotlib qt\n",
    "\n",
    "I = cv.imread(image_path,0)\n",
    " \n",
    "# Array where we merge all the segmentation masks from the series\n",
    "Array_3D = np.zeros((I.shape[0],I.shape[1],len(entries)),np.uint8)  \n",
    "\n",
    "\n",
    "#Merging process\n",
    "for ith in range (len(entries)):    \n",
    "    image_path = join(in_path,entries[ith])\n",
    "    I = cv.imread(image_path,0)\n",
    "    Array_3D[:,:,ith] = I\n",
    "\n",
    "\n",
    "#Saving merge volume    \n",
    "npz_file = 'vol.npz'\n",
    "print(f\"Saving {npz_file}\")\n",
    "np.savez(npz_file, vol=Array_3D)\n",
    "print(\"Done!\")\n",
    "\n",
    "\n",
    "Array_3D[Array_3D<60] = 0\n",
    "\n",
    "y,x,z = np.where(Array_3D)\n",
    "\n",
    "points = np.vstack((x, y, z)).T\n",
    "\n",
    "coordinates = points\n",
    "\n",
    "min_vals = np.min(coordinates, axis=0)\n",
    "max_vals = np.max(coordinates, axis=0)\n",
    "\n",
    "\n",
    "# Normalize the coordinates to range between -1 and 1\n",
    "normalized_coordinates = (coordinates - min_vals) / (max_vals - min_vals)\n",
    "\n",
    "print(\"Normalized coordinates:\")\n",
    "print(np.max(normalized_coordinates, axis=0), np.min(normalized_coordinates, axis=0))\n",
    "\n",
    "\n",
    "\n",
    "pcd = o3d.geometry.PointCloud()\n",
    "pcd.points = o3d.utility.Vector3dVector(points[::10,:])\n",
    "pcd.paint_uniform_color([1, 0.706, 0])\n",
    "o3d.visualization.draw_geometries([pcd])\n",
    "\n",
    "o3d.io.write_point_cloud(\"Series2.pcd\", pcd)"
   ]
  }
 ],
 "metadata": {
  "kernelspec": {
   "display_name": "Python 3 (ipykernel)",
   "language": "python",
   "name": "python3"
  },
  "language_info": {
   "codemirror_mode": {
    "name": "ipython",
    "version": 3
   },
   "file_extension": ".py",
   "mimetype": "text/x-python",
   "name": "python",
   "nbconvert_exporter": "python",
   "pygments_lexer": "ipython3",
   "version": "3.7.0"
  }
 },
 "nbformat": 4,
 "nbformat_minor": 5
}
