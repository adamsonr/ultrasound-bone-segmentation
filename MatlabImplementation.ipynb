{
 "cells": [
  {
   "cell_type": "code",
   "execution_count": 7,
   "id": "15955b5b-c644-45e6-b13d-f2caa3dfadb2",
   "metadata": {},
   "outputs": [],
   "source": [
    "import numpy as np \n",
    "import matplotlib.pyplot as plt\n",
    "import os\n",
    "import cv2 as cv \n",
    "from os.path import join\n",
    "import progressbar \n",
    "%matplotlib qt"
   ]
  },
  {
   "cell_type": "code",
   "execution_count": 10,
   "id": "8a3519e8-e013-4401-9f9a-ecd8d6b48a77",
   "metadata": {},
   "outputs": [],
   "source": [
    "#path of the images\n",
    "path = r'D:\\Dalhousie\\datasets'\n",
    "#folder = r'05 2023.07.30 NoFiducials\\cropped'\n",
    "folder = r'06 2023.07.30 WithFiducials\\cropped'\n",
    "saving_folder = r'06 2023.07.30 WithFiducials\\LogGabor'\n",
    "\n",
    "in_path=join(path,folder)\n",
    "entries = os.listdir(in_path)\n",
    "image_path = join(in_path,entries[333]) #Selected image\n",
    "savedimage_path = join(path,saving_folder)"
   ]
  },
  {
   "cell_type": "code",
   "execution_count": 11,
   "id": "79e989c0-6db6-4857-8320-8dffcb2a2e15",
   "metadata": {},
   "outputs": [
    {
     "data": {
      "text/plain": [
       "(666, 431)"
      ]
     },
     "execution_count": 11,
     "metadata": {},
     "output_type": "execute_result"
    }
   ],
   "source": [
    "#Reading and showing image to ensure that the slected image exists in the path\n",
    "img=cv.imread(image_path,0)\n",
    "cv.imshow('Imagen original',img)\n",
    "\n",
    "cv.waitKey(0)\n",
    "img.shape"
   ]
  },
  {
   "cell_type": "code",
   "execution_count": 12,
   "id": "b221b85e-5f65-4fb4-aede-ffb0c26cbb1a",
   "metadata": {},
   "outputs": [],
   "source": [
    "#Function to create a frequency grid to create the filter.\n",
    "def Grid2D(imag_shape):\n",
    "    ysize,xsize = imag_shape #The grid needs to be the same size as the image\n",
    "    ymid = ysize // 2\n",
    "    xmid = xsize // 2\n",
    "    \n",
    "    if ysize % 2 == 0: #Condition to led with images with odd or even size.\n",
    "        ymax = ymid - 1\n",
    "    else:\n",
    "        ymax = ymid\n",
    "\n",
    "    if xsize % 2 == 0:\n",
    "        xmax = xmid - 1\n",
    "    else:\n",
    "        xmax = xmid\n",
    "    \n",
    "    X,Y= np.meshgrid(np.arange(-xmid, xmax + 1),np.arange(-ymid, ymax + 1)) #Spatial domain of the grid\n",
    "    X = np.fft.ifftshift(X)/xsize #Frecuency domain of the grid (also normalized)\n",
    "    Y = np.fft.ifftshift(Y)/ysize\n",
    "    \n",
    "    return X,Y"
   ]
  },
  {
   "cell_type": "code",
   "execution_count": 13,
   "id": "125f4fad-baae-4c61-ba4e-05dfe20e6057",
   "metadata": {},
   "outputs": [
    {
     "name": "stdout",
     "output_type": "stream",
     "text": [
      "[ 30.     45.     67.5   101.25  151.875]\n",
      "254\n"
     ]
    }
   ],
   "source": [
    "def RiezFilter(img_shape): \n",
    "    u,v = Grid2D(img_shape)\n",
    "    w = np.sqrt(u**2+v**2)\n",
    "    w[0,0]=0.0001\n",
    "    \n",
    "    RiezFilt = (1j * v - u)/ w\n",
    "    \n",
    "    return RiezFilt\n",
    "\n",
    "def LogGaborFilter(img_shape,scaling_factor,wavelenght,k_w0):\n",
    "    \n",
    "    #Create a Frequency Grid\n",
    "    X,Y = Grid2D(img_shape)\n",
    "    \n",
    "    FilterBank = np.zeros((len(wavelenght),img_shape[0],img_shape[1]))\n",
    "    \n",
    "    #Determine the spatial regions to use \n",
    "    w = np.sqrt(Y**2+X**2)\n",
    "    w[0,0]=0.0001 #Avoids log(0)\n",
    "    phi = np.arctan2(Y,X)\n",
    "    \n",
    "    #User defined parameter\n",
    "    m = scaling_factor\n",
    "    \n",
    "    for i in range(len(wavelenght)):\n",
    "        \n",
    "        lamb = wavelenght[i]\n",
    "        w_0 = 1/(lamb)\n",
    "\n",
    "        GabFilter = np.exp( -((np.log(w/w_0))**2 / (2*(np.log(k_w0))**2)))#+((phi-phi_0)**2/(2*sig_phi**2)) \n",
    "        GabFilter[0,0] = 0\n",
    "\n",
    "        if (img_shape[0]%2 == 0):\n",
    "            GabFilter[img_shape[0]//2,:]=0\n",
    "\n",
    "        if (img_shape[1]%2 == 0):\n",
    "            GabFilter[:,img_shape[1]//2]=0\n",
    "        \n",
    "        FilterBank[i,:,:] = GabFilter\n",
    "    \n",
    "    return FilterBank\n",
    "\n",
    "def MonogenicSignal(image,LogGaborFilt,ReiszFilt):\n",
    "    F = np.fft.fft2(image)\n",
    "    \n",
    "    Ffilt = np.multiply(F,LogGaborFilt)\n",
    "    \n",
    "    Fm1 = np.real(np.fft.ifft2(Ffilt))\n",
    "    \n",
    "    Fmodd = np.fft.ifft2(np.multiply(Ffilt,ReiszFilt))\n",
    "    Fm2 = np.real(Fmodd)\n",
    "    Fm3 = np.imag(Fmodd)\n",
    "    \n",
    "    return Fm1,Fm2,Fm3\n",
    "\n",
    "def FeatureSymetry(m1,m2,m3,T):\n",
    "    epsilon = 0.001\n",
    "    \n",
    "    odd = np.sqrt(m2**2 + m3**2)\n",
    "    even = np.abs(m1)\n",
    "    \n",
    "    denominator = np.sqrt(even**2+odd**2)+epsilon\n",
    "    \n",
    "    FS_num = np.clip((even - odd - T), 0,None)\n",
    "    FA_num = np.clip((odd - even - T), 0,None)\n",
    "    \n",
    "    FS = FS_num/denominator\n",
    "    FA = FA_num/denominator\n",
    "    \n",
    "    FS = np.mean(FS, axis=0)\n",
    "    FA = np.mean(FA, axis=0)\n",
    "    \n",
    "    \n",
    "    return FS,FA\n",
    "\n",
    "\n",
    "RF=RiezFilter(img.shape)\n",
    "\n",
    "wl = 30*1.5**np.arange(5)\n",
    "print(wl)\n",
    "\n",
    "lG = LogGaborFilter(img.shape,1.5,wl,0.75)\n",
    "\n",
    "\n",
    "m1,m2,m3 = MonogenicSignal(img,lG,RF)\n",
    "FS,FA = FeatureSymetry(m1,m2,m3,0.18)\n",
    "\n",
    "FS = (FS-FS.min())*(255/(FS.max()-FS.min()))\n",
    "FS = FS.astype(np.uint8)\n",
    "print(FS.max())\n",
    "plt.figure()\n",
    "plt.subplot(131),plt.imshow(img, cmap = 'gray')\n",
    "plt.title('Original Image'), plt.xticks([]), plt.yticks([])\n",
    "plt.subplot(132),plt.imshow(FS, cmap = 'gray')\n",
    "plt.title('Symmetry'), plt.xticks([]), plt.yticks([])\n",
    "plt.subplot(133),plt.imshow(FA, cmap = 'gray')\n",
    "plt.title('Asymmetry'), plt.xticks([]), plt.yticks([])\n",
    "plt.show()\n"
   ]
  },
  {
   "cell_type": "code",
   "execution_count": 18,
   "id": "c7ad1bc7-85a9-4ea0-b4a6-fd39a4342e5f",
   "metadata": {},
   "outputs": [
    {
     "name": "stderr",
     "output_type": "stream",
     "text": [
      " 99% (480 of 481) |##################### | Elapsed Time: 0:02:32 ETA:   0:00:00"
     ]
    }
   ],
   "source": [
    "maximumvalue = len(entries)-3\n",
    "bar = progressbar.ProgressBar(maxval=maximumvalue).start()\n",
    "\n",
    "\n",
    "\n",
    "for ith in range (4,maximumvalue):\n",
    "    \n",
    "    in_image_path = join(in_path,entries[ith])\n",
    "    out_image_path = join(savedimage_path,entries[ith])\n",
    "\n",
    "    img = cv.imread(in_image_path,0)\n",
    "    mask = img.copy()*0\n",
    "    \n",
    "    mask[img==0] = False\n",
    "    mask[img>0] = True\n",
    "    \n",
    "    mask = mask*255\n",
    "    \n",
    "    RF=RiezFilter(img.shape)\n",
    "\n",
    "    wl = np.array([70,90,110])\n",
    "\n",
    "    lG = LogGaborFilter(img.shape,1.5,wl,0.4)\n",
    "    m1,m2,m3 = MonogenicSignal(img,lG,RF)\n",
    "\n",
    "    LocalPhase = np.arctan2(np.sqrt(m2**2+m3**2),m1)\n",
    "    #LocalPhase = LocalPhase[1,:,:]\n",
    "    FS,FA = FeatureSymetry(m1,m2,m3,0.18)\n",
    "    \n",
    "    FA = (FA-FA.min())*(255/(FA.max()-FA.min()))\n",
    "    FA = FA.astype(np.uint8)\n",
    "    FS = (FS-FS.min())*(255/(FS.max()-FS.min()))\n",
    "    FS = FS.astype(np.uint8)\n",
    "    \n",
    "    \n",
    "    FA[mask==0] = 255\n",
    "    FS[mask==0] = 0 \n",
    "    \n",
    "    cv.imshow('',np.c_[img,FS,~FA])\n",
    "    cv.waitKey(1)\n",
    "    #cv.imwrite(out_image_path,np.c_[img,FS])\n",
    "    bar.update(ith)"
   ]
  },
  {
   "cell_type": "code",
   "execution_count": null,
   "id": "84a921cd-5970-488e-a073-4523edef12c9",
   "metadata": {},
   "outputs": [],
   "source": []
  },
  {
   "cell_type": "code",
   "execution_count": null,
   "id": "80f26cc2-274d-4c36-a9a3-aa22d06bee03",
   "metadata": {},
   "outputs": [],
   "source": []
  },
  {
   "cell_type": "code",
   "execution_count": null,
   "id": "8c78d0eb-5710-461a-a13c-7313db8e21aa",
   "metadata": {},
   "outputs": [],
   "source": []
  }
 ],
 "metadata": {
  "kernelspec": {
   "display_name": "Python 3",
   "language": "python",
   "name": "python3"
  },
  "language_info": {
   "codemirror_mode": {
    "name": "ipython",
    "version": 3
   },
   "file_extension": ".py",
   "mimetype": "text/x-python",
   "name": "python",
   "nbconvert_exporter": "python",
   "pygments_lexer": "ipython3",
   "version": "3.6.5"
  }
 },
 "nbformat": 4,
 "nbformat_minor": 5
}
